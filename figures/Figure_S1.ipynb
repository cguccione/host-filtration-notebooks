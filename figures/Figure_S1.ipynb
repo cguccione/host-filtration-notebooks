{
 "cells": [
  {
   "cell_type": "code",
   "execution_count": 2,
   "id": "e2f9731a-4ba9-4879-ab25-5fbd490bcd03",
   "metadata": {},
   "outputs": [],
   "source": [
    "import pandas as pd\n",
    "import seaborn as sns\n",
    "import matplotlib.pyplot as plt\n",
    "import numpy as np"
   ]
  },
  {
   "cell_type": "markdown",
   "id": "68504c20-7a58-47a9-b402-46bfeef0f0c3",
   "metadata": {},
   "source": [
    "## Figure S1A"
   ]
  },
  {
   "cell_type": "code",
   "execution_count": null,
   "id": "f17a38b5-f2f9-42c4-bf93-474e3e301f9e",
   "metadata": {},
   "outputs": [],
   "source": []
  }
 ],
 "metadata": {
  "kernelspec": {
   "display_name": "qiime2-2022.8",
   "language": "python",
   "name": "qiime2-2022.8"
  },
  "language_info": {
   "codemirror_mode": {
    "name": "ipython",
    "version": 3
   },
   "file_extension": ".py",
   "mimetype": "text/x-python",
   "name": "python",
   "nbconvert_exporter": "python",
   "pygments_lexer": "ipython3",
   "version": "3.8.13"
  }
 },
 "nbformat": 4,
 "nbformat_minor": 5
}
